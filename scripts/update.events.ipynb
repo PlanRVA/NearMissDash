{
 "cells": [
  {
   "cell_type": "code",
   "execution_count": 1,
   "metadata": {},
   "outputs": [],
   "source": [
    "import geojson\n",
    "import json\n",
    "import requests\n",
    "import os"
   ]
  },
  {
   "cell_type": "code",
   "execution_count": 2,
   "metadata": {},
   "outputs": [
    {
     "name": "stdout",
     "output_type": "stream",
     "text": [
      "Data saved successfully\n"
     ]
    }
   ],
   "source": [
    "#setup JSONBin.io \n",
    "JSONBIN_ACCESS_KEY = '$2a$10$7B8tVje037JkjFrFjBuXauoSw5x7XdSVhSL2KfUqm7XfcNSOhQ8ae'\n",
    "JSONBIN_API_URL = f'https://api.jsonbin.io/v3/b/66db2f75ad19ca34f8a0f264'\n",
    "BIN_ID = '66db2f75ad19ca34f8a0f264'\n",
    "COLLECTION_ID = '66cccc04ad19ca34f89b5f08'\n",
    "file_path = \"C:\\\\GreenGIS\\\\NearMissDash\\\\json\\\\events.geojson\"\n",
    "\n",
    "\n",
    "#EVENTS JSONBIN TO LOCAL FILE UPDATE\n",
    "headers = {\n",
    "    'X-Master-Key': JSONBIN_ACCESS_KEY\n",
    "}\n",
    "\n",
    "response = requests.get(JSONBIN_API_URL, headers=headers)\n",
    "\n",
    "if response.status_code == 200:\n",
    "    data = response.json()\n",
    "\n",
    "    with open(file_path, 'w') as geojson_file:\n",
    "        json.dump(data, geojson_file, indent=4)\n",
    "\n",
    "        print(f\"Data saved successfully\")\n",
    "\n",
    "else:\n",
    "    print(\"Failed\")"
   ]
  },
  {
   "cell_type": "code",
   "execution_count": 3,
   "metadata": {},
   "outputs": [
    {
     "name": "stdout",
     "output_type": "stream",
     "text": [
      "JSONBin updated successfully.\n"
     ]
    }
   ],
   "source": [
    "#setup JSONBin.io \n",
    "JSONBIN_ACCESS_KEY = '$2a$10$7B8tVje037JkjFrFjBuXauoSw5x7XdSVhSL2KfUqm7XfcNSOhQ8ae'\n",
    "JSONBIN_API_URL = f'https://api.jsonbin.io/v3/b/66db3c38acd3cb34a87f708f'\n",
    "BIN_ID = '66db3c38acd3cb34a87f708f'\n",
    "COLLECTION_ID = '66cccc04ad19ca34f89b5f08'\n",
    "file_path = \"C:\\\\GreenGIS\\\\NearMissDash\\\\json\\\\events.geojson\"\n",
    "\n",
    "#LOCAL FILE TO DASHBOARD UPDATE\n",
    "HEADERS = {\n",
    "    'Content-Type': 'application/json',\n",
    "    'X-Master-Key': JSONBIN_ACCESS_KEY\n",
    "}\n",
    "\n",
    "# Load your local JSON file\n",
    "with open(file_path, 'r') as file:\n",
    "    local_data = json.load(file)\n",
    "\n",
    "# Send the PUT request to update the JSONBin\n",
    "response = requests.put(JSONBIN_API_URL, headers=HEADERS, json=local_data)\n",
    "\n",
    "# Check response\n",
    "if response.status_code == 200:\n",
    "    print('JSONBin updated successfully.')\n",
    "else:\n",
    "    print(f'Failed to update JSONBin: {response.status_code}, {response.text}')"
   ]
  }
 ],
 "metadata": {
  "kernelspec": {
   "display_name": "Python 3",
   "language": "python",
   "name": "python3"
  },
  "language_info": {
   "codemirror_mode": {
    "name": "ipython",
    "version": 3
   },
   "file_extension": ".py",
   "mimetype": "text/x-python",
   "name": "python",
   "nbconvert_exporter": "python",
   "pygments_lexer": "ipython3",
   "version": "3.11.4"
  }
 },
 "nbformat": 4,
 "nbformat_minor": 2
}
