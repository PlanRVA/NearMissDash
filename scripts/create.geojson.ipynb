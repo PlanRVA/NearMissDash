{
 "cells": [
  {
   "cell_type": "code",
   "execution_count": 1,
   "metadata": {},
   "outputs": [
    {
     "name": "stdout",
     "output_type": "stream",
     "text": [
      "Collecting geojson\n",
      "  Downloading geojson-3.1.0-py3-none-any.whl.metadata (16 kB)\n",
      "Downloading geojson-3.1.0-py3-none-any.whl (15 kB)\n",
      "Installing collected packages: geojson\n",
      "Successfully installed geojson-3.1.0\n",
      "Note: you may need to restart the kernel to use updated packages.\n"
     ]
    },
    {
     "name": "stderr",
     "output_type": "stream",
     "text": [
      "\n",
      "[notice] A new release of pip is available: 24.1 -> 24.1.2\n",
      "[notice] To update, run: python.exe -m pip install --upgrade pip\n"
     ]
    }
   ],
   "source": [
    "pip install geojson"
   ]
  },
  {
   "cell_type": "code",
   "execution_count": 1,
   "metadata": {},
   "outputs": [],
   "source": [
    "import geojson\n",
    "import json"
   ]
  },
  {
   "cell_type": "code",
   "execution_count": 3,
   "metadata": {},
   "outputs": [],
   "source": [
    "data = [{'latitude': 1.0, 'longitude': 103.0, 'Report': 'A', 'Travel': 'B', 'Injury': 'C','Incident': 'D'}]"
   ]
  },
  {
   "cell_type": "code",
   "execution_count": 4,
   "metadata": {},
   "outputs": [],
   "source": [
    "features = []"
   ]
  },
  {
   "cell_type": "code",
   "execution_count": 8,
   "metadata": {},
   "outputs": [
    {
     "name": "stdout",
     "output_type": "stream",
     "text": [
      "{\n",
      "  \"type\": \"FeatureCollection\",\n",
      "  \"features\": [\n",
      "    {\n",
      "      \"type\": \"Feature\",\n",
      "      \"geometry\": {\n",
      "        \"type\": \"Point\",\n",
      "        \"coordinates\": [\n",
      "          103.0,\n",
      "          1.0\n",
      "        ]\n",
      "      },\n",
      "      \"properties\": {\n",
      "        \"Report\": \"A\",\n",
      "        \"Travel\": \"B\",\n",
      "        \"Injury\": \"C\",\n",
      "        \"Incident\": \"C\"\n",
      "      }\n",
      "    }\n",
      "  ]\n",
      "}\n"
     ]
    }
   ],
   "source": [
    "for row in data:\n",
    "    point = geojson.Point((row['longitude'], row['latitude']))\n",
    "    feature = geojson.Feature(geometry=point, properties={'Report': row['Report'], 'Travel': row['Travel'], 'Injury': row['Injury'], 'Incident': row['Injury']})\n",
    "    features.append(feature)\n",
    "\n",
    "feature_collection = geojson.FeatureCollection(features)\n",
    "\n",
    "print(geojson.dumps(feature_collection, indent=2))"
   ]
  },
  {
   "cell_type": "code",
   "execution_count": 3,
   "metadata": {},
   "outputs": [
    {
     "name": "stdout",
     "output_type": "stream",
     "text": [
      "{\n",
      "  \"type\": \"FeatureCollection\",\n",
      "  \"features\": [\n",
      "    {\n",
      "      \"type\": \"Feature\",\n",
      "      \"geometry\": {\n",
      "        \"type\": \"LineString\",\n",
      "        \"coordinates\": [\n",
      "          [\n",
      "            0,\n",
      "            0\n",
      "          ],\n",
      "          [\n",
      "            1,\n",
      "            1\n",
      "          ],\n",
      "          [\n",
      "            2,\n",
      "            2\n",
      "          ]\n",
      "        ]\n",
      "      },\n",
      "      \"properties\": {}\n",
      "    }\n",
      "  ]\n",
      "}\n"
     ]
    }
   ],
   "source": [
    "linestring_data = {\"coordinates\": [(0, 0), (1, 1), (2, 2)]}\n",
    " \n",
    "# Creating a GeoJSON LineString \n",
    "linestring_geojson = geojson.LineString(coordinates=linestring_data[\"coordinates\"])\n",
    " \n",
    "# Creating a FeatureCollection with the LineString \n",
    "feature_collection = geojson.FeatureCollection(features=[geojson.Feature(geometry=linestring_geojson)])\n",
    " \n",
    "# Printing the output\n",
    "print(geojson.dumps(feature_collection, indent=2))"
   ]
  },
  {
   "cell_type": "code",
   "execution_count": null,
   "metadata": {},
   "outputs": [],
   "source": [
    "with open('my_geojson_file.geojson', 'w') as f:\n",
    "    json.dump(geojson_data, f)"
   ]
  },
  {
   "cell_type": "code",
   "execution_count": 5,
   "metadata": {},
   "outputs": [],
   "source": [
    "\n",
    "# Define a GeoJSON feature collection using a dictionary\n",
    "geojson_data = {\n",
    "    \"type\": \"FeatureCollection\",\n",
    "    \"features\": [\n",
    "        {\n",
    "            \"type\": \"Feature\",\n",
    "            \"geometry\": {\n",
    "                \"type\": \"Point\",\n",
    "                \"coordinates\": [37.524474272969215, -77.43811535074182]\n",
    "            },\n",
    "            \"properties\": {\n",
    "                \"name\": \"Sample Point\"\n",
    "            }\n",
    "        }\n",
    "    ]\n",
    "}\n",
    "\n",
    "# Write to a GeoJSON file\n",
    "with open('my_geojson_file.geojson', 'w') as f:\n",
    "    json.dump(geojson_data, f)"
   ]
  }
 ],
 "metadata": {
  "kernelspec": {
   "display_name": "Python 3",
   "language": "python",
   "name": "python3"
  },
  "language_info": {
   "codemirror_mode": {
    "name": "ipython",
    "version": 3
   },
   "file_extension": ".py",
   "mimetype": "text/x-python",
   "name": "python",
   "nbconvert_exporter": "python",
   "pygments_lexer": "ipython3",
   "version": "3.11.4"
  }
 },
 "nbformat": 4,
 "nbformat_minor": 2
}
