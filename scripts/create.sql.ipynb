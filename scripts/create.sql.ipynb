{
 "cells": [
  {
   "cell_type": "code",
   "execution_count": 7,
   "metadata": {},
   "outputs": [],
   "source": [
    "\n",
    "import json"
   ]
  },
  {
   "cell_type": "code",
   "execution_count": null,
   "metadata": {},
   "outputs": [],
   "source": [
    "def convert_geojson_to_sql(geojson_file, sql_file):\n",
    "    with open(geojson_file) as f:\n",
    "        data = json.load(f)\n",
    "    \n",
    "    # Access the features from the nested structure\n",
    "    features = data['record']['features']\n",
    "    \n",
    "    with open(sql_file, 'w') as f:\n",
    "        for feature in features:\n",
    "            geom = json.dumps(feature['geometry'])\n",
    "            properties = feature['properties']\n",
    "            columns = ', '.join(properties.keys())\n",
    "            values = ', '.join([f\"'{str(value)}'\" for value in properties.values()])\n",
    "            sql = f\"INSERT INTO geo_data (geometry, {columns}) VALUES (ST_GeomFromGeoJSON('{geom}'), {values});\\n\"\n",
    "            f.write(sql)\n",
    "\n",
    "convert_geojson_to_sql('C:\\\\', 'C:\\\\')"
   ]
  }
 ],
 "metadata": {
  "kernelspec": {
   "display_name": "Python 3",
   "language": "python",
   "name": "python3"
  },
  "language_info": {
   "codemirror_mode": {
    "name": "ipython",
    "version": 3
   },
   "file_extension": ".py",
   "mimetype": "text/x-python",
   "name": "python",
   "nbconvert_exporter": "python",
   "pygments_lexer": "ipython3",
   "version": "3.11.4"
  }
 },
 "nbformat": 4,
 "nbformat_minor": 2
}
