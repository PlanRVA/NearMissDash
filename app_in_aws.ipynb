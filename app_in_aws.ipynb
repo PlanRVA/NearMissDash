{
 "cells": [
  {
   "cell_type": "code",
   "execution_count": 1,
   "metadata": {},
   "outputs": [],
   "source": [
    "# !python -m venv C:\\GreenGIS\\NearMissDash\n",
    "# !C:\\GreenGIS\\NearMissDash\\Scripts\\activate.bat\n",
    "# !PS C:\\GreenGIS\\NearMissDash\\Scripts\\Activate.ps1"
   ]
  },
  {
   "cell_type": "code",
   "execution_count": 2,
   "metadata": {},
   "outputs": [],
   "source": [
    "# pip intall leaflet-image"
   ]
  },
  {
   "cell_type": "code",
   "execution_count": 3,
   "metadata": {
    "metadata": {}
   },
   "outputs": [
    {
     "name": "stdout",
     "output_type": "stream",
     "text": [
      " * Serving Flask app '__main__'\n",
      " * Debug mode: off\n"
     ]
    },
    {
     "name": "stderr",
     "output_type": "stream",
     "text": [
      "WARNING: This is a development server. Do not use it in a production deployment. Use a production WSGI server instead.\n",
      " * Running on http://127.0.0.1:5000\n",
      "Press CTRL+C to quit\n",
      "127.0.0.1 - - [26/Feb/2025 14:32:25] \"GET / HTTP/1.1\" 200 -\n",
      "127.0.0.1 - - [26/Feb/2025 14:32:25] \"GET /static/bootstrap-slider/css/bootstrap-slider.min.css HTTP/1.1\" 404 -\n",
      "127.0.0.1 - - [26/Feb/2025 14:32:25] \"GET /docs/5.3/dist/css/bootstrap.min.css HTTP/1.1\" 404 -\n",
      "127.0.0.1 - - [26/Feb/2025 14:32:25] \"GET /static/bootstrap/css/bootstrap-theme.min.css HTTP/1.1\" 404 -\n",
      "127.0.0.1 - - [26/Feb/2025 14:32:25] \"GET /static/nearmiss1.png HTTP/1.1\" 200 -\n",
      "127.0.0.1 - - [26/Feb/2025 14:32:25] \"GET /static/stylesheet.css HTTP/1.1\" 200 -\n",
      "127.0.0.1 - - [26/Feb/2025 14:32:25] \"GET /static/PlanRVA_White.png HTTP/1.1\" 200 -\n",
      "127.0.0.1 - - [26/Feb/2025 14:32:25] \"GET /favicon.ico HTTP/1.1\" 404 -\n"
     ]
    },
    {
     "ename": "",
     "evalue": "",
     "output_type": "error",
     "traceback": [
      "\u001b[1;31mThe Kernel crashed while executing code in the current cell or a previous cell. \n",
      "\u001b[1;31mPlease review the code in the cell(s) to identify a possible cause of the failure. \n",
      "\u001b[1;31mClick <a href='https://aka.ms/vscodeJupyterKernelCrash'>here</a> for more info. \n",
      "\u001b[1;31mView Jupyter <a href='command:jupyter.viewOutput'>log</a> for further details."
     ]
    }
   ],
   "source": [
    "#import packages\n",
    "from flask import Flask, render_template, request, jsonify \n",
    "from flask_json import FlaskJSON, JsonError, json_response\n",
    "from flask_mail import Mail, Message \n",
    "import folium\n",
    "from IPython.display import HTML, display\n",
    "import json\n",
    "import pandas as pd\n",
    "import numpy as np\n",
    "import os\n",
    "from collections import Counter\n",
    "import io\n",
    "import smtplib\n",
    "from email.mime.text import MIMEText\n",
    "from waitress import serve\n",
    "import requests\n",
    "import sqlite3\n",
    "import urllib.request\n",
    "\n",
    "#name app\n",
    "app = Flask(__name__)\n",
    "app.config['SECRET_KEY'] = 'greenstreets'\n",
    "\n",
    "#setup JSONBin.io \n",
    "JSONBIN_ACCESS_KEY = '$2a$10$J23yWei2a5JsxL9JkiWOXuZsgZ.qR/GRj74Jre.4i/Te3XjaT0A2y'\n",
    "JSONBIN_API_URL = f'https://api.jsonbin.io/v3/b/66db5907acd3cb34a87f7d42' # BIN\n",
    "JSONBIN_API_URL2 = f'https://api.jsonbin.io/v3/b/66db2f75ad19ca34f8a0f264' # EVENTS\n",
    "\n",
    "#tell flask to read home page\n",
    "@app.route('/')\n",
    "def index(): \n",
    "    return render_template('apphome.html')\n",
    "\n",
    "#tell flask to read defs page\n",
    "@app.route('/defs')\n",
    "def defs(): \n",
    "    return render_template('defs.html')\n",
    "\n",
    "#tell flask to read dashboard page\n",
    "@app.route('/dashboard')\n",
    "def dashboard():\n",
    "    # Read content of plot1.html\n",
    "    with open(\"plot1.html\", \"r\") as f:\n",
    "        plot1_html = f.read()\n",
    "    \n",
    "    # Read content of plot2.html\n",
    "    with open(\"plot2.html\", \"r\") as f:\n",
    "        plot2_html = f.read()\n",
    "    \n",
    "    # Pass both plots to the template\n",
    "    return render_template(\"dash2test.html\", plot1_html=plot1_html, plot2_html=plot2_html)\n",
    "\n",
    "\n",
    "\n",
    "#Tell Flask to create a record\n",
    "@app.route('/add-feature', methods=['POST'])\n",
    "def add_feature():\n",
    "    new_feature = request.json  # Get the new feature from the request body\n",
    "    \n",
    "    # Fetch the current data from JSONBin\n",
    "    headers = {\n",
    "        'X-Master-Key': JSONBIN_ACCESS_KEY,\n",
    "    }\n",
    "    response = requests.get(JSONBIN_API_URL, headers=headers)\n",
    "\n",
    "    if response.status_code != 200:\n",
    "        return jsonify({'error': 'Failed to fetch data from JSONBin.io'}), response.status_code\n",
    "\n",
    "    # Add the new feature to the existing data\n",
    "    data = response.json()['record']\n",
    "    data['features'].append(new_feature)\n",
    "\n",
    "    # Update the JSONBin with the new data\n",
    "    update_response = requests.put(JSONBIN_API_URL, headers=headers, json=data)\n",
    "\n",
    "    if update_response.status_code == 200:\n",
    "        return jsonify(update_response.json()), 200\n",
    "    else:\n",
    "        return jsonify({'error': 'Failed to update data in JSONBin.io'}), update_response.status_code\n",
    "\n",
    "#Tell Flask how to read bin - map on dashboard page\n",
    "@app.route('/get-map-data',  methods=['GET'])\n",
    "def get_map_data():\n",
    "    headers = {\n",
    "        'X-Master-Key': JSONBIN_ACCESS_KEY,\n",
    "    }\n",
    "    response = requests.get(JSONBIN_API_URL, headers=headers)\n",
    "\n",
    "    if response.status_code == 200:\n",
    "        return jsonify(response.json())\n",
    "    else:\n",
    "        return jsonify({\"error\": \"Failed to fetch data\"}), 500\n",
    "\n",
    "\n",
    "\n",
    "#tell flask run app\n",
    "if __name__ == '__main__':\n",
    "    app.run()"
   ]
  },
  {
   "cell_type": "code",
   "execution_count": null,
   "metadata": {},
   "outputs": [],
   "source": []
  }
 ],
 "metadata": {
  "kernelspec": {
   "display_name": "Python (nearmiss_env)",
   "language": "python",
   "name": "nearmiss_env"
  },
  "language_info": {
   "codemirror_mode": {
    "name": "ipython",
    "version": 3
   },
   "file_extension": ".py",
   "mimetype": "text/x-python",
   "name": "python",
   "nbconvert_exporter": "python",
   "pygments_lexer": "ipython3",
   "version": "3.11.7"
  }
 },
 "nbformat": 4,
 "nbformat_minor": 2
}
