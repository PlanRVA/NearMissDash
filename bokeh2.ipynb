{
 "cells": [
  {
   "cell_type": "code",
   "execution_count": 51,
   "metadata": {},
   "outputs": [],
   "source": [
    "import requests\n",
    "import pandas as pd\n",
    "import json\n",
    "from math import pi\n",
    "from bokeh.plotting import figure, show, output_file\n",
    "from bokeh.transform import cumsum\n",
    "from bokeh.io import output_notebook, show\n",
    "\n",
    "output_file(\"plot2.html\")"
   ]
  },
  {
   "cell_type": "code",
   "execution_count": 46,
   "metadata": {},
   "outputs": [],
   "source": [
    "#Setup JSON BIN IO\n",
    "JSONBIN_ACCESS_KEY = '$2a$10$J23yWei2a5JsxL9JkiWOXuZsgZ.qR/GRj74Jre.4i/Te3XjaT0A2y'\n",
    "JSONBIN_API_URL = f'https://api.jsonbin.io/v3/b/66db5907acd3cb34a87f7d42' # BIN\n",
    "\n",
    "# Fetching JSON from JSONBin API\n",
    "headers = {\n",
    "    'X-Master-Key': JSONBIN_ACCESS_KEY,\n",
    "}\n",
    "\n",
    "response = requests.get(JSONBIN_API_URL, headers=headers)\n",
    "\n",
    "if response.status_code == 200:\n",
    "    data = response.json()['record']  # Extract the record part from JSONBin data\n",
    "else:\n",
    "    print(\"Failed to fetch data from JSONBin\", response.status_code)\n",
    "\n",
    "features = [feature['properties'] for feature in data['features']]\n",
    "df = pd.DataFrame(features)"
   ]
  },
  {
   "cell_type": "code",
   "execution_count": 47,
   "metadata": {},
   "outputs": [],
   "source": [
    "custom_colors = {\n",
    "    'Collision1': '#C84107',    \n",
    "    'Collision2': '#E96830',      \n",
    "    'Near Miss1': '#EE810E',     \n",
    "    'Near Miss2': '#F9A64F',    \n",
    "    'Unsafe': '#FBB92C'         \n",
    "    }\n",
    "\n",
    "# Prepare data for pie chart 2\n",
    "pie_data_2 = df.groupby('event_type').size().reset_index(name='value')\n",
    "pie_data_2['angle'] = pie_data_2['value'] / pie_data_2['value'].sum() * 2 * pi\n",
    "pie_data_2['color'] = pie_data_2['event_type'].map(custom_colors)"
   ]
  },
  {
   "cell_type": "code",
   "execution_count": 48,
   "metadata": {},
   "outputs": [],
   "source": [
    "# Pie chart 2: Based on 'event_type'\n",
    "p2 = figure(height=350, width=350, title=\"Submissions by Event Type\", toolbar_location=\"right\",\n",
    "            tools=\"hover, reset\", tooltips=\"@event_type: @value\", x_range=(-0.5, 1.0))\n",
    "\n",
    "p2.wedge(x=0, y=1, radius=0.4,\n",
    "         start_angle=cumsum('angle', include_zero=True), end_angle=cumsum('angle'),\n",
    "         line_color=\"white\", fill_color='color', legend_field='event_type', source=pie_data_2)\n",
    "\n",
    "p2.axis.axis_label = None\n",
    "p2.axis.visible = False\n",
    "p2.grid.grid_line_color = None"
   ]
  },
  {
   "cell_type": "code",
   "execution_count": 52,
   "metadata": {},
   "outputs": [
    {
     "data": {
      "text/html": [
       "\n",
       "  <div id=\"b4c6a9d8-f682-4671-992f-508886f1e0ae\" data-root-id=\"p1410\" style=\"display: contents;\"></div>\n"
      ]
     },
     "metadata": {},
     "output_type": "display_data"
    },
    {
     "data": {
      "application/javascript": "(function(root) {\n  function embed_document(root) {\n  const docs_json = {\"0cc30591-6137-44be-a904-822c8f6e34ea\":{\"version\":\"3.2.1\",\"title\":\"Bokeh Application\",\"roots\":[{\"type\":\"object\",\"name\":\"Figure\",\"id\":\"p1410\",\"attributes\":{\"width\":350,\"height\":350,\"x_range\":{\"type\":\"object\",\"name\":\"Range1d\",\"id\":\"p1420\",\"attributes\":{\"start\":-0.5}},\"y_range\":{\"type\":\"object\",\"name\":\"DataRange1d\",\"id\":\"p1412\"},\"x_scale\":{\"type\":\"object\",\"name\":\"LinearScale\",\"id\":\"p1421\"},\"y_scale\":{\"type\":\"object\",\"name\":\"LinearScale\",\"id\":\"p1422\"},\"title\":{\"type\":\"object\",\"name\":\"Title\",\"id\":\"p1413\",\"attributes\":{\"text\":\"Submissions by Event Type\"}},\"renderers\":[{\"type\":\"object\",\"name\":\"GlyphRenderer\",\"id\":\"p1446\",\"attributes\":{\"data_source\":{\"type\":\"object\",\"name\":\"ColumnDataSource\",\"id\":\"p1437\",\"attributes\":{\"selected\":{\"type\":\"object\",\"name\":\"Selection\",\"id\":\"p1438\",\"attributes\":{\"indices\":[],\"line_indices\":[]}},\"selection_policy\":{\"type\":\"object\",\"name\":\"UnionRenderers\",\"id\":\"p1439\"},\"data\":{\"type\":\"map\",\"entries\":[[\"index\",{\"type\":\"ndarray\",\"array\":{\"type\":\"bytes\",\"data\":\"AAAAAAEAAAACAAAA\"},\"shape\":[3],\"dtype\":\"int32\",\"order\":\"little\"}],[\"event_type\",{\"type\":\"ndarray\",\"array\":[\"Collision2\",\"Miss1\",\"Miss2\"],\"shape\":[3],\"dtype\":\"object\",\"order\":\"little\"}],[\"value\",{\"type\":\"ndarray\",\"array\":{\"type\":\"bytes\",\"data\":\"AgAAAAIAAAAHAAAA\"},\"shape\":[3],\"dtype\":\"int32\",\"order\":\"little\"}],[\"angle\",{\"type\":\"ndarray\",\"array\":{\"type\":\"bytes\",\"data\":\"433Ua0JH8j/jfdRrQkfyP03cszy0/A9A\"},\"shape\":[3],\"dtype\":\"float64\",\"order\":\"little\"}],[\"color\",{\"type\":\"ndarray\",\"array\":[\"#E96830\",{\"type\":\"number\",\"value\":\"nan\"},{\"type\":\"number\",\"value\":\"nan\"}],\"shape\":[3],\"dtype\":\"object\",\"order\":\"little\"}]]}}},\"view\":{\"type\":\"object\",\"name\":\"CDSView\",\"id\":\"p1447\",\"attributes\":{\"filter\":{\"type\":\"object\",\"name\":\"AllIndices\",\"id\":\"p1448\"}}},\"glyph\":{\"type\":\"object\",\"name\":\"Wedge\",\"id\":\"p1443\",\"attributes\":{\"x\":{\"type\":\"value\",\"value\":0},\"y\":{\"type\":\"value\",\"value\":1},\"radius\":{\"type\":\"value\",\"value\":0.4},\"start_angle\":{\"type\":\"expr\",\"expr\":{\"type\":\"object\",\"name\":\"CumSum\",\"id\":\"p1435\",\"attributes\":{\"field\":\"angle\",\"include_zero\":true}}},\"end_angle\":{\"type\":\"expr\",\"expr\":{\"type\":\"object\",\"name\":\"CumSum\",\"id\":\"p1436\",\"attributes\":{\"field\":\"angle\"}}},\"line_color\":{\"type\":\"value\",\"value\":\"white\"},\"fill_color\":{\"type\":\"field\",\"field\":\"color\"}}},\"nonselection_glyph\":{\"type\":\"object\",\"name\":\"Wedge\",\"id\":\"p1444\",\"attributes\":{\"x\":{\"type\":\"value\",\"value\":0},\"y\":{\"type\":\"value\",\"value\":1},\"radius\":{\"type\":\"value\",\"value\":0.4},\"start_angle\":{\"type\":\"expr\",\"expr\":{\"id\":\"p1435\"}},\"end_angle\":{\"type\":\"expr\",\"expr\":{\"id\":\"p1436\"}},\"line_color\":{\"type\":\"value\",\"value\":\"white\"},\"line_alpha\":{\"type\":\"value\",\"value\":0.1},\"fill_color\":{\"type\":\"field\",\"field\":\"color\"},\"fill_alpha\":{\"type\":\"value\",\"value\":0.1},\"hatch_alpha\":{\"type\":\"value\",\"value\":0.1}}},\"muted_glyph\":{\"type\":\"object\",\"name\":\"Wedge\",\"id\":\"p1445\",\"attributes\":{\"x\":{\"type\":\"value\",\"value\":0},\"y\":{\"type\":\"value\",\"value\":1},\"radius\":{\"type\":\"value\",\"value\":0.4},\"start_angle\":{\"type\":\"expr\",\"expr\":{\"id\":\"p1435\"}},\"end_angle\":{\"type\":\"expr\",\"expr\":{\"id\":\"p1436\"}},\"line_color\":{\"type\":\"value\",\"value\":\"white\"},\"line_alpha\":{\"type\":\"value\",\"value\":0.2},\"fill_color\":{\"type\":\"field\",\"field\":\"color\"},\"fill_alpha\":{\"type\":\"value\",\"value\":0.2},\"hatch_alpha\":{\"type\":\"value\",\"value\":0.2}}}}}],\"toolbar\":{\"type\":\"object\",\"name\":\"Toolbar\",\"id\":\"p1419\",\"attributes\":{\"tools\":[{\"type\":\"object\",\"name\":\"HoverTool\",\"id\":\"p1433\",\"attributes\":{\"renderers\":\"auto\",\"tooltips\":\"@event_type: @value\"}},{\"type\":\"object\",\"name\":\"ResetTool\",\"id\":\"p1434\"}]}},\"left\":[{\"type\":\"object\",\"name\":\"LinearAxis\",\"id\":\"p1428\",\"attributes\":{\"visible\":false,\"ticker\":{\"type\":\"object\",\"name\":\"BasicTicker\",\"id\":\"p1429\",\"attributes\":{\"mantissas\":[1,2,5]}},\"formatter\":{\"type\":\"object\",\"name\":\"BasicTickFormatter\",\"id\":\"p1430\"},\"major_label_policy\":{\"type\":\"object\",\"name\":\"AllLabels\",\"id\":\"p1431\"}}}],\"below\":[{\"type\":\"object\",\"name\":\"LinearAxis\",\"id\":\"p1423\",\"attributes\":{\"visible\":false,\"ticker\":{\"type\":\"object\",\"name\":\"BasicTicker\",\"id\":\"p1424\",\"attributes\":{\"mantissas\":[1,2,5]}},\"formatter\":{\"type\":\"object\",\"name\":\"BasicTickFormatter\",\"id\":\"p1425\"},\"major_label_policy\":{\"type\":\"object\",\"name\":\"AllLabels\",\"id\":\"p1426\"}}}],\"center\":[{\"type\":\"object\",\"name\":\"Grid\",\"id\":\"p1427\",\"attributes\":{\"axis\":{\"id\":\"p1423\"},\"grid_line_color\":null}},{\"type\":\"object\",\"name\":\"Grid\",\"id\":\"p1432\",\"attributes\":{\"dimension\":1,\"axis\":{\"id\":\"p1428\"},\"grid_line_color\":null}},{\"type\":\"object\",\"name\":\"Legend\",\"id\":\"p1449\",\"attributes\":{\"items\":[{\"type\":\"object\",\"name\":\"LegendItem\",\"id\":\"p1450\",\"attributes\":{\"label\":{\"type\":\"field\",\"field\":\"event_type\"},\"renderers\":[{\"id\":\"p1446\"}]}}]}}]}}]}};\n  const render_items = [{\"docid\":\"0cc30591-6137-44be-a904-822c8f6e34ea\",\"roots\":{\"p1410\":\"b4c6a9d8-f682-4671-992f-508886f1e0ae\"},\"root_ids\":[\"p1410\"]}];\n  root.Bokeh.embed.embed_items_notebook(docs_json, render_items);\n  }\n  if (root.Bokeh !== undefined) {\n    embed_document(root);\n  } else {\n    let attempts = 0;\n    const timer = setInterval(function(root) {\n      if (root.Bokeh !== undefined) {\n        clearInterval(timer);\n        embed_document(root);\n      } else {\n        attempts++;\n        if (attempts > 100) {\n          clearInterval(timer);\n          console.log(\"Bokeh: ERROR: Unable to run BokehJS code because BokehJS library is missing\");\n        }\n      }\n    }, 10, root)\n  }\n})(window);",
      "application/vnd.bokehjs_exec.v0+json": ""
     },
     "metadata": {
      "application/vnd.bokehjs_exec.v0+json": {
       "id": "p1410"
      }
     },
     "output_type": "display_data"
    }
   ],
   "source": [
    "# Display\n",
    "show(p2)"
   ]
  }
 ],
 "metadata": {
  "kernelspec": {
   "display_name": "base",
   "language": "python",
   "name": "python3"
  },
  "language_info": {
   "codemirror_mode": {
    "name": "ipython",
    "version": 3
   },
   "file_extension": ".py",
   "mimetype": "text/x-python",
   "name": "python",
   "nbconvert_exporter": "python",
   "pygments_lexer": "ipython3",
   "version": "3.11.4"
  }
 },
 "nbformat": 4,
 "nbformat_minor": 2
}
