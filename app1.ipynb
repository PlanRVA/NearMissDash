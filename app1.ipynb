{
 "cells": [
  {
   "cell_type": "code",
   "execution_count": 1,
   "metadata": {},
   "outputs": [
    {
     "name": "stdout",
     "output_type": "stream",
     "text": [
      "      PID    PPID    PGID     WINPID   TTY         UID    STIME COMMAND\n",
      "    45860       1   45860      45860  ?         197610 14:38:33 /usr/bin/ps\n"
     ]
    }
   ],
   "source": [
    "!python -m venv C:\\GreenGIS\\NearMissDash\n",
    "!C:\\GreenGIS\\NearMissDash\\Scripts\\activate.bat\n",
    "!PS C:\\GreenGIS\\NearMissDash\\Scripts\\Activate.ps1"
   ]
  },
  {
   "cell_type": "code",
   "execution_count": 24,
   "metadata": {
    "metadata": {}
   },
   "outputs": [
    {
     "name": "stdout",
     "output_type": "stream",
     "text": [
      " * Serving Flask app '__main__'\n",
      " * Debug mode: off\n"
     ]
    },
    {
     "name": "stderr",
     "output_type": "stream",
     "text": [
      "WARNING: This is a development server. Do not use it in a production deployment. Use a production WSGI server instead.\n",
      " * Running on http://127.0.0.1:5000\n",
      "Press CTRL+C to quit\n",
      "127.0.0.1 - - [10/Apr/2025 10:53:49] \"GET / HTTP/1.1\" 200 -\n",
      "127.0.0.1 - - [10/Apr/2025 10:53:49] \"GET /static/bootstrap-slider/css/bootstrap-slider.min.css HTTP/1.1\" 404 -\n",
      "127.0.0.1 - - [10/Apr/2025 10:53:49] \"GET /static/bootstrap/css/bootstrap-theme.min.css HTTP/1.1\" 404 -\n",
      "127.0.0.1 - - [10/Apr/2025 10:53:49] \"GET /docs/5.3/dist/css/bootstrap.min.css HTTP/1.1\" 404 -\n",
      "127.0.0.1 - - [10/Apr/2025 10:53:49] \"GET /static/nearmiss1.png HTTP/1.1\" 304 -\n",
      "127.0.0.1 - - [10/Apr/2025 10:53:49] \"GET /static/stylesheet.css HTTP/1.1\" 304 -\n",
      "127.0.0.1 - - [10/Apr/2025 10:53:49] \"GET /static/PlanRVA_White.png HTTP/1.1\" 304 -\n",
      "127.0.0.1 - - [10/Apr/2025 10:53:49] \"GET /config.js HTTP/1.1\" 404 -\n"
     ]
    }
   ],
   "source": [
    "#import packages\n",
    "from flask import Flask, render_template, request, jsonify \n",
    "from flask_json import FlaskJSON, JsonError, json_response\n",
    "from flask_mail import Mail, Message \n",
    "import folium\n",
    "from IPython.display import HTML, display\n",
    "import json\n",
    "import pandas as pd\n",
    "import numpy as np\n",
    "import os\n",
    "from collections import Counter\n",
    "import io\n",
    "import smtplib\n",
    "from email.mime.text import MIMEText\n",
    "from waitress import serve\n",
    "import requests\n",
    "import sqlite3\n",
    "import urllib.request\n",
    "from dotenv import load_dotenv\n",
    "\n",
    "load_dotenv()\n",
    "\n",
    "#name app\n",
    "app = Flask(__name__)\n",
    "app.config['SECRET_KEY'] = 'greenstreets'\n",
    "\n",
    "\n",
    "#tell flask to read home page\n",
    "@app.route('/')\n",
    "def index(): \n",
    "    return render_template('apphome.html')\n",
    "\n",
    "#tell flask to read defs page\n",
    "@app.route('/defs')\n",
    "def defs(): \n",
    "    return render_template('defs.html')\n",
    "\n",
    "#tell flask to read dashboard page\n",
    "@app.route('/dashboard')\n",
    "def dashboard():\n",
    "    # Read content of plot1.html\n",
    "    with open(\"plot1.html\", \"r\") as f:\n",
    "        plot1_html = f.read()\n",
    "    \n",
    "    # Read content of plot2.html\n",
    "    with open(\"plot2.html\", \"r\") as f:\n",
    "        plot2_html = f.read()\n",
    "    \n",
    "    # Pass both plots to the template\n",
    "    return render_template(\"dash2test.html\", plot1_html=plot1_html, plot2_html=plot2_html)\n",
    "\n",
    "\n",
    "\n",
    "#Tell Flask to create a record\n",
    "@app.route('/add-feature', methods=['POST'])\n",
    "def add_feature():\n",
    "    new_feature = request.json  # Get the new feature from the request body\n",
    "    \n",
    "    # Fetch the current data from JSONBin\n",
    "    headers = {\n",
    "        'X-Master-Key': JSONBIN_ACCESS_KEY,\n",
    "    }\n",
    "    response = requests.get(JSONBIN_API_URL, headers=headers)\n",
    "\n",
    "    if response.status_code != 200:\n",
    "        return jsonify({'error': 'Failed to fetch data from JSONBin.io'}), response.status_code\n",
    "\n",
    "    # Add the new feature to the existing data\n",
    "    data = response.json()['record']\n",
    "    data['features'].append(new_feature)\n",
    "\n",
    "    # Update the JSONBin with the new data\n",
    "    update_response = requests.put(JSONBIN_API_URL, headers=headers, json=data)\n",
    "\n",
    "    if update_response.status_code == 200:\n",
    "        return jsonify(update_response.json()), 200\n",
    "    else:\n",
    "        return jsonify({'error': 'Failed to update data in JSONBin.io'}), update_response.status_code\n",
    "\n",
    "#Tell Flask how to read bin - map on dashboard page\n",
    "@app.route('/get-map-data',  methods=['GET'])\n",
    "def get_map_data():\n",
    "    headers = {\n",
    "        'X-Master-Key': JSONBIN_ACCESS_KEY,\n",
    "    }\n",
    "    response = requests.get(JSONBIN_API_URL, headers=headers)\n",
    "\n",
    "    if response.status_code == 200:\n",
    "        return jsonify(response.json())\n",
    "    else:\n",
    "        return jsonify({\"error\": \"Failed to fetch data\"}), 500\n",
    "\n",
    "\n",
    "\n",
    "#tell flask run app\n",
    "if __name__ == '__main__':\n",
    "    app.run()"
   ]
  }
 ],
 "metadata": {
  "kernelspec": {
   "display_name": "base",
   "language": "python",
   "name": "python3"
  },
  "language_info": {
   "codemirror_mode": {
    "name": "ipython",
    "version": 3
   },
   "file_extension": ".py",
   "mimetype": "text/x-python",
   "name": "python",
   "nbconvert_exporter": "python",
   "pygments_lexer": "ipython3",
   "version": "3.11.11"
  }
 },
 "nbformat": 4,
 "nbformat_minor": 2
}
