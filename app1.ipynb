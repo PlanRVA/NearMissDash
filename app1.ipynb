{
 "cells": [
  {
   "cell_type": "code",
   "execution_count": 1,
   "metadata": {},
   "outputs": [
    {
     "name": "stdout",
     "output_type": "stream",
     "text": [
      "      PID    PPID    PGID     WINPID   TTY         UID    STIME COMMAND\n",
      "    64708       1   64708      64708  ?         197610 10:28:51 /usr/bin/ps\n"
     ]
    }
   ],
   "source": [
    "!python -m venv C:\\GreenGIS\\NearMiss\n",
    "!C:\\GreenGIS\\NearMiss\\Scripts\\activate.bat\n",
    "!PS C:\\GreenGIS\\NearMiss\\Scripts\\Activate.ps1"
   ]
  },
  {
   "cell_type": "code",
   "execution_count": null,
   "metadata": {},
   "outputs": [],
   "source": [
    "#install packages\n",
    "pip install virtualenv\n",
    "pip install numpy\n",
    "pip install Flask\n",
    "pip install Flask-Navigation\n",
    "pip install flaskwebgui\n",
    "pip install Flask-WTF\n",
    "pip install -U WTForms\n",
    "pip install bootstrap-flask\n",
    "pip install Flask-JSON\n",
    "pip install flask flask-login flask-sqlalchemy\n",
    "pip install openpyxl==3.0.10\n",
    "pip install pandas\n",
    "pip install flask pandas\n",
    "pip install Metaphone\n",
    "pip install textdistance\n",
    "pip install pdfkit\n",
    "pip install geojson\n",
    "pip install flask-restx\n",
    "pip install Flask-Mail\n",
    "pip install chart.js"
   ]
  },
  {
   "cell_type": "code",
   "execution_count": 2,
   "metadata": {
    "metadata": {}
   },
   "outputs": [
    {
     "name": "stdout",
     "output_type": "stream",
     "text": [
      "{'c:\\\\GreenGIS\\\\NearMiss\\\\user.home.ipynb'}\n"
     ]
    }
   ],
   "source": [
    "filename = \"user.home.ipynb\"\n",
    "\n",
    "import os\n",
    "\n",
    "if os.path.exists(filename):\n",
    "    absolute_path = os.path.abspath(filename)\n",
    "    print({absolute_path})\n",
    "else:\n",
    "    print(f\"no idea pal\")"
   ]
  },
  {
   "cell_type": "code",
   "execution_count": 32,
   "metadata": {
    "metadata": {}
   },
   "outputs": [
    {
     "name": "stdout",
     "output_type": "stream",
     "text": [
      " * Serving Flask app '__main__'\n",
      " * Debug mode: off\n"
     ]
    },
    {
     "name": "stderr",
     "output_type": "stream",
     "text": [
      "WARNING: This is a development server. Do not use it in a production deployment. Use a production WSGI server instead.\n",
      " * Running on http://127.0.0.1:5000\n",
      "Press CTRL+C to quit\n",
      "127.0.0.1 - - [08/Aug/2024 11:56:29] \"GET / HTTP/1.1\" 200 -\n",
      "127.0.0.1 - - [08/Aug/2024 11:56:29] \"GET /static/bootstrap/css/bootstrap-theme.min.css HTTP/1.1\" 404 -\n",
      "127.0.0.1 - - [08/Aug/2024 11:56:29] \"GET /static/bootstrap-slider/css/bootstrap-slider.min.css HTTP/1.1\" 404 -\n",
      "127.0.0.1 - - [08/Aug/2024 11:56:29] \"GET /static/nearmiss1.png HTTP/1.1\" 304 -\n",
      "127.0.0.1 - - [08/Aug/2024 11:56:29] \"GET /static/stylesheet.css HTTP/1.1\" 304 -\n",
      "127.0.0.1 - - [08/Aug/2024 11:56:29] \"GET /static/PlanRVA_White.png HTTP/1.1\" 304 -\n",
      "127.0.0.1 - - [08/Aug/2024 11:56:30] \"GET /contact HTTP/1.1\" 200 -\n",
      "127.0.0.1 - - [08/Aug/2024 11:56:30] \"GET /static/stylesheet.css HTTP/1.1\" 304 -\n",
      "127.0.0.1 - - [08/Aug/2024 11:56:30] \"GET /static/PlanRVA_White.png HTTP/1.1\" 304 -\n",
      "127.0.0.1 - - [08/Aug/2024 11:56:55] \"POST /submit HTTP/1.1\" 200 -\n"
     ]
    },
    {
     "name": "stdout",
     "output_type": "stream",
     "text": [
      "Failed to send email: [WinError 10060] A connection attempt failed because the connected party did not properly respond after a period of time, or established connection failed because connected host has failed to respond\n"
     ]
    }
   ],
   "source": [
    "#import packages\n",
    "from flask import Flask, render_template, request, jsonify, Response\n",
    "import folium\n",
    "from IPython.display import HTML, display\n",
    "import json\n",
    "import pandas as pd\n",
    "import numpy as np\n",
    "import os\n",
    "import matplotlib.pyplot as plt\n",
    "from collections import Counter\n",
    "import io\n",
    "import smtplib\n",
    "from email.mime.text import MIMEText\n",
    "\n",
    "#from your_database_module import search_function\n",
    "\n",
    "#name app\n",
    "app = Flask(__name__)\n",
    "app.config['SECRET_KEY'] = 'greenstreets'\n",
    "\n",
    "#tell flask to read home page\n",
    "@app.route('/')\n",
    "def index(): \n",
    "    return render_template('apphome.html')\n",
    "\n",
    "#tell flask to read about page\n",
    "@app.route('/about')\n",
    "def about(): \n",
    "    return render_template('about.html')\n",
    "\n",
    "#tell flask to read contact page\n",
    "@app.route('/contact')\n",
    "def conact(): \n",
    "    return render_template('contact.html')\n",
    "\n",
    "#tell flask to read contact page\n",
    "@app.route('/defs')\n",
    "def defs(): \n",
    "    return render_template('defs.html')\n",
    "\n",
    "#tell flask to read dashboard page\n",
    "@app.route('/dashboard')\n",
    "def dashboard():\n",
    "    return render_template('dashboard.html')\n",
    "\n",
    "\n",
    "#tell flask how to open events geojson\n",
    "@app.route('/geojson')\n",
    "def geojson():\n",
    "    with open('json/events.geojson') as f:\n",
    "        geojson_data = json.load(f)\n",
    "    return jsonify(geojson_data)\n",
    "\n",
    "#tell flask to submit and save form to geojson\n",
    "@app.route('/add_event', methods=['POST'])\n",
    "def add_event():\n",
    "    new_event = request.json\n",
    "    # Load existing GeoJSON data\n",
    "    with open('json/events.geojson') as f:\n",
    "        geojson_data = json.load(f)\n",
    "    # Add the new event to the features list\n",
    "    geojson_data['features'].append(new_event)\n",
    "    # Save the updated GeoJSON data\n",
    "    with open('json/events.geojson', 'w') as f:\n",
    "        json.dump(geojson_data, f, indent=4)\n",
    "    return jsonify({'status': 'success'}), 200\n",
    "\n",
    "\n",
    "#tell flask how to submit contact form\n",
    "def send_email(subject, sender, recipients, text_body):\n",
    "    msg = MIMEText(text_body)\n",
    "    msg['Subject'] = subject\n",
    "    msg['From'] = sender\n",
    "    msg['To'] = \", \".join(recipients)\n",
    "    try:\n",
    "        with smtplib.SMTP_SSL('smtp.live.com', 465) as server:\n",
    "            server.login(os.getenv('EMAIL_USER'), os.getenv('EMAIL_PASS'))\n",
    "            server.sendmail(sender, recipients, msg.as_string())\n",
    "    except Exception as e:\n",
    "        print(f\"Failed to send email: {e}\")\n",
    "#tell flask to submit form, success message and reroute home\n",
    "@app.route('/submit', methods=['POST'])\n",
    "def submit():\n",
    "    name = request.form['name']\n",
    "    email = request.form['email']\n",
    "    message = request.form['message']\n",
    "    subject = \"New Form Submission\"\n",
    "    sender = os.getenv('EMAIL_USER')\n",
    "    recipients = [\"egreenwell@planrva.org\"]\n",
    "    text_body = f\"Name: {name}\\nEmail: {email}\\nMessage: {message}\"\n",
    "    send_email(subject, sender, recipients, text_body)\n",
    "    # Return JSON response\n",
    "    return jsonify({\"message\": \"Thank you for your request.\"})\n",
    "\n",
    "\n",
    "#tell flask run app\n",
    "if __name__ == '__main__':\n",
    "    app.run()"
   ]
  },
  {
   "cell_type": "code",
   "execution_count": null,
   "metadata": {},
   "outputs": [],
   "source": []
  }
 ],
 "metadata": {
  "kernelspec": {
   "display_name": "Python 3",
   "language": "python",
   "name": "python3"
  },
  "language_info": {
   "codemirror_mode": {
    "name": "ipython",
    "version": 3
   },
   "file_extension": ".py",
   "mimetype": "text/x-python",
   "name": "python",
   "nbconvert_exporter": "python",
   "pygments_lexer": "ipython3",
   "version": "3.11.4"
  }
 },
 "nbformat": 4,
 "nbformat_minor": 2
}
