{
 "cells": [
  {
   "cell_type": "code",
   "execution_count": 1,
   "metadata": {},
   "outputs": [
    {
     "name": "stdout",
     "output_type": "stream",
     "text": [
      "      PID    PPID    PGID     WINPID   TTY         UID    STIME COMMAND\n",
      "    30492       1   30492      30492  ?         197610 09:16:34 /usr/bin/ps\n"
     ]
    }
   ],
   "source": [
    "!python -m venv C:\\GreenGIS\\NearMissDash\n",
    "!C:\\GreenGIS\\NearMissDash\\Scripts\\activate.bat\n",
    "!PS C:\\GreenGIS\\NearMissDash\\Scripts\\Activate.ps1"
   ]
  },
  {
   "cell_type": "code",
   "execution_count": 85,
   "metadata": {
    "metadata": {}
   },
   "outputs": [
    {
     "name": "stdout",
     "output_type": "stream",
     "text": [
      " * Serving Flask app '__main__'\n",
      " * Debug mode: off\n"
     ]
    },
    {
     "name": "stderr",
     "output_type": "stream",
     "text": [
      "WARNING: This is a development server. Do not use it in a production deployment. Use a production WSGI server instead.\n",
      " * Running on http://127.0.0.1:5000\n",
      "Press CTRL+C to quit\n",
      "127.0.0.1 - - [30/Aug/2024 13:33:50] \"GET /dashboard HTTP/1.1\" 200 -\n",
      "127.0.0.1 - - [30/Aug/2024 13:33:50] \"GET /static/stylesheet.css HTTP/1.1\" 200 -\n",
      "127.0.0.1 - - [30/Aug/2024 13:33:50] \"GET /static/bootstrap-slider/css/bootstrap-slider.min.css HTTP/1.1\" 404 -\n",
      "127.0.0.1 - - [30/Aug/2024 13:33:50] \"GET /charts.js HTTP/1.1\" 404 -\n",
      "127.0.0.1 - - [30/Aug/2024 13:33:50] \"GET /static/nearmiss1.png HTTP/1.1\" 304 -\n",
      "127.0.0.1 - - [30/Aug/2024 13:33:50] \"GET /static/PlanRVA_White.png HTTP/1.1\" 304 -\n",
      "127.0.0.1 - - [30/Aug/2024 13:33:51] \"GET /get-map-data HTTP/1.1\" 200 -\n"
     ]
    }
   ],
   "source": [
    "#import packages\n",
    "from flask import Flask, render_template, request, jsonify \n",
    "from flask_json import FlaskJSON, JsonError, json_response\n",
    "from flask_mail import Mail, Message \n",
    "import folium\n",
    "from IPython.display import HTML, display\n",
    "import json\n",
    "import pandas as pd\n",
    "import numpy as np\n",
    "import os\n",
    "from collections import Counter\n",
    "import io\n",
    "import smtplib\n",
    "from email.mime.text import MIMEText\n",
    "from waitress import serve\n",
    "import requests\n",
    "from bokeh.embed import file_html \n",
    "from bokeh.plotting import figure, show \n",
    "from bokeh.resources import CDN\n",
    "\n",
    "#name app\n",
    "app = Flask(__name__)\n",
    "app.config['SECRET_KEY'] = 'greenstreets'\n",
    "\n",
    "#setup JSONBin.io \n",
    "JSONBIN_ACCESS_KEY = '$2a$10$7B8tVje037JkjFrFjBuXauoSw5x7XdSVhSL2KfUqm7XfcNSOhQ8ae'\n",
    "JSONBIN_API_URL = f'https://api.jsonbin.io/v3/b/66ce2fe9e41b4d34e42626f8'\n",
    "BIN_ID = '66ce2fe9e41b4d34e42626f8'\n",
    "COLLECTION_ID = '66cccc04ad19ca34f89b5f08'\n",
    "\n",
    "\n",
    "#tell flask to read home page\n",
    "@app.route('/')\n",
    "def index(): \n",
    "    return render_template('apphome.html')\n",
    "\n",
    "#tell flask to read about page\n",
    "#@app.route('/about')\n",
    "#def about(): \n",
    "    #return render_template('about.html')\n",
    "\n",
    "#tell flask to read contact page\n",
    "#@app.route('/contact')\n",
    "#def conact(): \n",
    "    #return render_template('contact.html')\n",
    "\n",
    "#tell flask to read defs page\n",
    "@app.route('/defs')\n",
    "def defs(): \n",
    "    return render_template('defs.html')\n",
    "\n",
    "#tell flask to read dashboard page\n",
    "@app.route('/dashboard')\n",
    "def dashboard():\n",
    "    return render_template('dashboard.html')\n",
    "\n",
    "#tell flask to read charttest\n",
    "@app.route('/charttest')\n",
    "def charttest():\n",
    "    return render_template('charttest.html')\n",
    "\n",
    "#Tell Flask to create a record\n",
    "@app.route('/add-feature', methods=['POST'])\n",
    "def add_feature():\n",
    "    new_data = request.json  # Get the new feature from the request body\n",
    "    # Fetch the current data from JSONBin\n",
    "    headers = {\n",
    "        'X-Master-Key': API_KEY,\n",
    "        'X-Collection-Id': COLLECTION_ID\n",
    "    }\n",
    "    url = f'https://api.jsonbin.io/v3/b/{BIN_ID}/latest'\n",
    "    response = requests.get(url, headers=headers)\n",
    "    if response.status_code == 200:\n",
    "        bin_data = response.json()\n",
    "        # Add the new feature to the features array\n",
    "        bin_data['record']['features'].append(new_data)\n",
    "        # Update the bin with the new data\n",
    "        update_url = f'https://api.jsonbin.io/v3/b/{BIN_ID}'\n",
    "        update_response = requests.put(update_url, headers=headers, json=bin_data)\n",
    "\n",
    "        if update_response.status_code == 200:\n",
    "            return jsonify({\"message\": \"Data added successfully\"}), 200\n",
    "        else:\n",
    "            return jsonify({\"error\": \"Failed to update data\"}), 500\n",
    "    else:\n",
    "        return jsonify({\"error\": \"Failed to retrieve current data\"}), 500\n",
    "#Tell Flask how to read bin - map\n",
    "@app.route('/get-map-data',  methods=['GET'])\n",
    "def get_map_data():\n",
    "    headers = {\n",
    "        'X-Master-Key': JSONBIN_ACCESS_KEY,\n",
    "    }\n",
    "    response = requests.get(JSONBIN_API_URL, headers=headers)\n",
    "\n",
    "    if response.status_code == 200:\n",
    "        return jsonify(response.json()), 200\n",
    "    else:\n",
    "        return jsonify({'error': 'Failed to fetch data from JSONBin.io'}), response.status_code\n",
    "\n",
    "\n",
    "\n",
    "\n",
    "\n",
    "#tell flask run app\n",
    "if __name__ == '__main__':\n",
    "    app.run()"
   ]
  }
 ],
 "metadata": {
  "kernelspec": {
   "display_name": "Python 3",
   "language": "python",
   "name": "python3"
  },
  "language_info": {
   "codemirror_mode": {
    "name": "ipython",
    "version": 3
   },
   "file_extension": ".py",
   "mimetype": "text/x-python",
   "name": "python",
   "nbconvert_exporter": "python",
   "pygments_lexer": "ipython3",
   "version": "3.11.4"
  }
 },
 "nbformat": 4,
 "nbformat_minor": 2
}
