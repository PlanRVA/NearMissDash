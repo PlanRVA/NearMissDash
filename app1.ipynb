{
 "cells": [
  {
   "cell_type": "code",
   "execution_count": 2,
   "metadata": {},
   "outputs": [
    {
     "name": "stdout",
     "output_type": "stream",
     "text": [
      "      PID    PPID    PGID     WINPID   TTY         UID    STIME COMMAND\n",
      "    33296       1   33296      33296  ?         197610 13:07:50 /usr/bin/ps\n"
     ]
    }
   ],
   "source": [
    "!python -m venv C:\\GreenGIS\\NearMissDash\n",
    "!C:\\GreenGIS\\NearMissDash\\Scripts\\activate.bat\n",
    "!PS C:\\GreenGIS\\NearMissDash\\Scripts\\Activate.ps1"
   ]
  },
  {
   "cell_type": "code",
   "execution_count": 6,
   "metadata": {
    "metadata": {}
   },
   "outputs": [
    {
     "name": "stdout",
     "output_type": "stream",
     "text": [
      " * Serving Flask app '__main__'\n",
      " * Debug mode: off\n"
     ]
    },
    {
     "name": "stderr",
     "output_type": "stream",
     "text": [
      "WARNING: This is a development server. Do not use it in a production deployment. Use a production WSGI server instead.\n",
      " * Running on http://127.0.0.1:5000\n",
      "Press CTRL+C to quit\n",
      "127.0.0.1 - - [06/Sep/2024 13:24:55] \"GET / HTTP/1.1\" 200 -\n",
      "127.0.0.1 - - [06/Sep/2024 13:24:55] \"GET /static/bootstrap/css/bootstrap-theme.min.css HTTP/1.1\" 404 -\n",
      "127.0.0.1 - - [06/Sep/2024 13:24:55] \"GET /static/bootstrap-slider/css/bootstrap-slider.min.css HTTP/1.1\" 404 -\n",
      "127.0.0.1 - - [06/Sep/2024 13:24:55] \"GET /docs/5.3/dist/css/bootstrap.min.css HTTP/1.1\" 404 -\n",
      "127.0.0.1 - - [06/Sep/2024 13:24:55] \"GET /static/stylesheet.css HTTP/1.1\" 304 -\n",
      "127.0.0.1 - - [06/Sep/2024 13:24:55] \"GET /static/nearmiss1.png HTTP/1.1\" 304 -\n",
      "127.0.0.1 - - [06/Sep/2024 13:24:55] \"GET /static/PlanRVA_White.png HTTP/1.1\" 304 -\n",
      "127.0.0.1 - - [06/Sep/2024 13:24:56] \"GET /dashboard HTTP/1.1\" 200 -\n",
      "127.0.0.1 - - [06/Sep/2024 13:24:56] \"GET /static/stylesheet.css HTTP/1.1\" 304 -\n",
      "127.0.0.1 - - [06/Sep/2024 13:24:56] \"GET /static/bootstrap-slider/css/bootstrap-slider.min.css HTTP/1.1\" 404 -\n",
      "127.0.0.1 - - [06/Sep/2024 13:24:56] \"GET /docs/5.3/dist/css/bootstrap.min.css HTTP/1.1\" 404 -\n",
      "127.0.0.1 - - [06/Sep/2024 13:24:56] \"GET /static/bootstrap/css/bootstrap-theme.min.css HTTP/1.1\" 404 -\n",
      "127.0.0.1 - - [06/Sep/2024 13:24:56] \"GET /static/nearmiss1.png HTTP/1.1\" 304 -\n",
      "127.0.0.1 - - [06/Sep/2024 13:24:56] \"GET /charts.js HTTP/1.1\" 404 -\n",
      "127.0.0.1 - - [06/Sep/2024 13:24:56] \"GET /static/PlanRVA_White.png HTTP/1.1\" 304 -\n",
      "127.0.0.1 - - [06/Sep/2024 13:24:57] \"GET /get-map-data HTTP/1.1\" 200 -\n"
     ]
    }
   ],
   "source": [
    "#import packages\n",
    "from flask import Flask, render_template, request, jsonify \n",
    "from flask_json import FlaskJSON, JsonError, json_response\n",
    "from flask_mail import Mail, Message \n",
    "import folium\n",
    "from IPython.display import HTML, display\n",
    "import json\n",
    "import pandas as pd\n",
    "import numpy as np\n",
    "import os\n",
    "from collections import Counter\n",
    "import io\n",
    "import smtplib\n",
    "from email.mime.text import MIMEText\n",
    "from waitress import serve\n",
    "import requests\n",
    "import sqlite3\n",
    "import urllib.request\n",
    "\n",
    "#name app\n",
    "app = Flask(__name__)\n",
    "app.config['SECRET_KEY'] = 'greenstreets'\n",
    "\n",
    "#setup JSONBin.io \n",
    "JSONBIN_ACCESS_KEY = '$2a$10$7B8tVje037JkjFrFjBuXauoSw5x7XdSVhSL2KfUqm7XfcNSOhQ8ae'\n",
    "JSONBIN_API_URL = f'https://api.jsonbin.io/v3/b/66db2f75ad19ca34f8a0f264'\n",
    "BIN_ID = '66db2f75ad19ca34f8a0f264'\n",
    "COLLECTION_ID = '66cccc04ad19ca34f89b5f08'\n",
    "\n",
    "\n",
    "#tell flask to read home page\n",
    "@app.route('/')\n",
    "def index(): \n",
    "    return render_template('apphome.html')\n",
    "\n",
    "#tell flask to read defs page\n",
    "@app.route('/defs')\n",
    "def defs(): \n",
    "    return render_template('defs.html')\n",
    "\n",
    "#tell flask to read dashboard page\n",
    "@app.route('/dashboard')\n",
    "def dashboard():\n",
    "    return render_template('dashboard.html')\n",
    "\n",
    "\n",
    "#Tell Flask to create a record\n",
    "@app.route('/add-feature', methods=['POST'])\n",
    "def add_feature():\n",
    "    new_data = request.json  # Get the new feature from the request body\n",
    "    # Fetch the current data from JSONBin\n",
    "    headers = {\n",
    "        'X-Master-Key': JSONBIN_ACCESS_KEY,\n",
    "        'X-Collection-Id': COLLECTION_ID\n",
    "    }\n",
    "    url = f'https://api.jsonbin.io/v3/b/{BIN_ID}/latest'\n",
    "    response = requests.get(url, headers=headers)\n",
    "    if response.status_code == 200:\n",
    "        bin_data = response.json()\n",
    "        # Add the new feature to the features array\n",
    "        bin_data['record']['features'].append(new_data)\n",
    "        # Update the bin with the new data\n",
    "        update_url = f'https://api.jsonbin.io/v3/b/{BIN_ID}'\n",
    "        update_response = requests.put(update_url, headers=headers, json=bin_data)\n",
    "\n",
    "#Tell Flask how to read bin - map on dashboard page\n",
    "@app.route('/get-map-data',  methods=['GET'])\n",
    "def get_map_data():\n",
    "    headers = {\n",
    "        'X-Master-Key': JSONBIN_ACCESS_KEY,\n",
    "    }\n",
    "    response = requests.get(JSONBIN_API_URL, headers=headers)\n",
    "\n",
    "    if response.status_code == 200:\n",
    "        return jsonify(response.json()), 200\n",
    "    else:\n",
    "        return jsonify({'error': 'Failed to fetch data from JSONBin.io'}), response.status_code\n",
    "\n",
    "\n",
    "\n",
    "#tell flask run app\n",
    "if __name__ == '__main__':\n",
    "    app.run()"
   ]
  }
 ],
 "metadata": {
  "kernelspec": {
   "display_name": "Python 3",
   "language": "python",
   "name": "python3"
  },
  "language_info": {
   "codemirror_mode": {
    "name": "ipython",
    "version": 3
   },
   "file_extension": ".py",
   "mimetype": "text/x-python",
   "name": "python",
   "nbconvert_exporter": "python",
   "pygments_lexer": "ipython3",
   "version": "3.11.4"
  }
 },
 "nbformat": 4,
 "nbformat_minor": 2
}
