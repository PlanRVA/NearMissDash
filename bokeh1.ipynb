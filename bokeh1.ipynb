{
 "cells": [
  {
   "cell_type": "code",
   "execution_count": 16,
   "metadata": {},
   "outputs": [],
   "source": [
    "import requests\n",
    "import pandas as pd\n",
    "import json\n",
    "from math import pi\n",
    "from bokeh.plotting import figure, show, output_file\n",
    "from bokeh.transform import cumsum\n",
    "\n",
    "output_file(\"plot1.html\")"
   ]
  },
  {
   "cell_type": "code",
   "execution_count": 5,
   "metadata": {},
   "outputs": [],
   "source": [
    "#Setup JSON BIN IO\n",
    "JSONBIN_ACCESS_KEY = '$2a$10$J23yWei2a5JsxL9JkiWOXuZsgZ.qR/GRj74Jre.4i/Te3XjaT0A2y'\n",
    "JSONBIN_API_URL = f'https://api.jsonbin.io/v3/b/66db5907acd3cb34a87f7d42' # BIN\n",
    "\n",
    "# Fetching JSON from JSONBin API\n",
    "headers = {\n",
    "    'X-Master-Key': JSONBIN_ACCESS_KEY,\n",
    "}\n",
    "\n",
    "response = requests.get(JSONBIN_API_URL, headers=headers)\n",
    "\n",
    "if response.status_code == 200:\n",
    "    data = response.json()['record']  # Extract the record part from JSONBin data\n",
    "else:\n",
    "    print(\"Failed to fetch data from JSONBin\", response.status_code)\n",
    "\n",
    "features = [feature['properties'] for feature in data['features']]\n",
    "df = pd.DataFrame(features)"
   ]
  },
  {
   "cell_type": "code",
   "execution_count": 6,
   "metadata": {},
   "outputs": [],
   "source": [
    "# Custom colors for 'report_type' and 'event_type'\n",
    "custom_colors = {\n",
    "    'Collision': '#C84107',    \n",
    "    'Near Miss': '#EE810E',     \n",
    "    'Dangerous Location': '#FBB92C',\n",
    "    }\n",
    "\n",
    "#  Prepare data for pie chart 1\n",
    "pie_data_1 = df.groupby('report_type').size().reset_index(name='value')\n",
    "pie_data_1['angle'] = pie_data_1['value']/pie_data_1['value'].sum() * 2 * pi\n",
    "pie_data_1['color'] = pie_data_1['report_type'].map(custom_colors)"
   ]
  },
  {
   "cell_type": "code",
   "execution_count": 14,
   "metadata": {},
   "outputs": [],
   "source": [
    "# Pie chart 1\n",
    "p1 = figure(height=350, title=\"Submissions by Report Type\", toolbar_location=\"right\",\n",
    "            tools=\"hover, reset\", tooltips=\"@report_type: @value\", x_range=(-0.5, 1.0))\n",
    "\n",
    "p1.wedge(x=0, y=1, radius=0.4,\n",
    "         start_angle=cumsum('angle', include_zero=True), end_angle=cumsum('angle'),\n",
    "         line_color=\"white\", fill_color='color', legend_field='report_type', source=pie_data_1)\n",
    "\n",
    "p1.axis.axis_label = None\n",
    "p1.axis.visible = False\n",
    "p1.grid.grid_line_color = None"
   ]
  },
  {
   "cell_type": "code",
   "execution_count": 17,
   "metadata": {},
   "outputs": [],
   "source": [
    "# Display\n",
    "show(p1)"
   ]
  }
 ],
 "metadata": {
  "kernelspec": {
   "display_name": "base",
   "language": "python",
   "name": "python3"
  },
  "language_info": {
   "codemirror_mode": {
    "name": "ipython",
    "version": 3
   },
   "file_extension": ".py",
   "mimetype": "text/x-python",
   "name": "python",
   "nbconvert_exporter": "python",
   "pygments_lexer": "ipython3",
   "version": "3.11.4"
  }
 },
 "nbformat": 4,
 "nbformat_minor": 2
}
